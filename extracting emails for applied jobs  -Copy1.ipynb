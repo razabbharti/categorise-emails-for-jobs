{
 "cells": [
  {
   "cell_type": "code",
   "execution_count": 398,
   "metadata": {},
   "outputs": [
    {
     "name": "stdout",
     "output_type": "stream",
     "text": [
      "please enter your email addressrazabbharti618@gmail.com\n",
      "please enter yourtrytocrackmy1password\n",
      "done\n"
     ]
    }
   ],
   "source": [
    "import imaplib\n",
    "email_address=str(input(\"please enter your email address\"))\n",
    "password=str(input(\"please enter your\"))\n",
    "obj = imaplib.IMAP4_SSL('imap.gmail.com', 993)\n",
    "obj.login(email_address, password)\n",
    "obj.create('job')\n",
    "obj.select('inbox')\n",
    "result,data=obj.uid('search',None, r'(X-GM-RAW \"subject:\\\"Thank you for applying\\\"\")')\n",
    "data1=data[0].split()\n",
    "for i in data1:\n",
    "    i=i.decode('utf-8')\n",
    "    apply_lbl_msg = obj.uid('COPY', i, 'job')\n",
    "    obj.expunge()\n",
    "print('done')"
   ]
  }
 ],
 "metadata": {
  "kernelspec": {
   "display_name": "Python 3",
   "language": "python",
   "name": "python3"
  },
  "language_info": {
   "codemirror_mode": {
    "name": "ipython",
    "version": 3
   },
   "file_extension": ".py",
   "mimetype": "text/x-python",
   "name": "python",
   "nbconvert_exporter": "python",
   "pygments_lexer": "ipython3",
   "version": "3.7.7"
  }
 },
 "nbformat": 4,
 "nbformat_minor": 4
}
